{
  "nbformat": 4,
  "nbformat_minor": 0,
  "metadata": {
    "colab": {
      "name": "Ising_ML_Supervised.ipynb",
      "provenance": [],
      "collapsed_sections": [
        "8JidW0hbN6sf",
        "r8asL1PNR53R",
        "O9rQMAQSR-M_",
        "Eo0UTjQcSB53"
      ]
    },
    "kernelspec": {
      "name": "python3",
      "display_name": "Python 3"
    },
    "language_info": {
      "name": "python"
    }
  },
  "cells": [
    {
      "cell_type": "markdown",
      "source": [
        "# Notebook about supervised learning (for the Ising model)\n",
        "## MLQMB - Toulouse Summer School"
      ],
      "metadata": {
        "id": "wnfN5cq9QW0v"
      }
    },
    {
      "cell_type": "markdown",
      "source": [
        "This notebook contains code to generate classical 2D Ising model data (using the Wolff cluster algorithm), and examples of finding the finite temperature phase transition using machine learning methods. For the purpose of keeping this running quickly, this notebook focuses on the idea rather than on accuracy (so small networks, small system size, etc)"
      ],
      "metadata": {
        "id": "kaYLD_QkQ3Sd"
      }
    },
    {
      "cell_type": "markdown",
      "source": [
        "### Install and import all the required packages"
      ],
      "metadata": {
        "id": "23sUI5BmNuoj"
      }
    },
    {
      "cell_type": "code",
      "source": [
        "!pip install flax"
      ],
      "metadata": {
        "colab": {
          "base_uri": "https://localhost:8080/"
        },
        "id": "NdiqhXlROVEr",
        "outputId": "cdfda58d-05bf-4d8c-d08f-f10bf8652ec2"
      },
      "execution_count": null,
      "outputs": [
        {
          "output_type": "stream",
          "name": "stdout",
          "text": [
            "Installing collected packages: chex, optax, flax\n",
            "Successfully installed chex-0.1.2 flax-0.4.1 optax-0.1.1\n"
          ]
        }
      ]
    },
    {
      "cell_type": "code",
      "execution_count": null,
      "metadata": {
        "id": "3aJeTT26NEC3"
      },
      "outputs": [],
      "source": [
        "import numpy as np\n",
        "\n",
        "from collections import deque\n",
        "from functools import partial\n",
        "\n",
        "import matplotlib.pyplot as plt\n",
        "%matplotlib inline\n",
        "\n",
        "# To measure the time it takes to train a network\n",
        "import time\n",
        "\n",
        "# Everything we need from JAX\n",
        "import jax\n",
        "import jax.numpy as jnp\n",
        "from jax import grad, jit, vmap, value_and_grad\n",
        "from jax import random\n",
        "from jax.scipy.special import logsumexp # Computes the log of the sum of exponentials of input elements.\n",
        "from jax.experimental import optimizers\n",
        "\n",
        "# Flax module for deep learning models\n",
        "import flax.linen as nn\n",
        "\n",
        "# The key for our random number generator, we need this because JAX will distribute the calculation\n",
        "key = random.PRNGKey(0)"
      ]
    },
    {
      "cell_type": "markdown",
      "source": [
        "### The Wolff cluster update algorithm for the Ising model"
      ],
      "metadata": {
        "id": "8JidW0hbN6sf"
      }
    },
    {
      "cell_type": "code",
      "source": [
        "class WolffMonteCarlo:\n",
        "    \"\"\" Wolff Monte Carlo simulator for the Ising model.\"\"\"\n",
        "    def __init__(self, L, T, method=None):\n",
        "        self._L = L\n",
        "        self._T = T\n",
        "        self._K = 2. / T\n",
        "        self._method = method\n",
        "\n",
        "        # set up initial state\n",
        "        self._state = np.random.randint(0, 2, size=[L, L])\n",
        "\n",
        "    @property\n",
        "    def L(self):\n",
        "        return self._L\n",
        "\n",
        "    @property\n",
        "    def T(self):\n",
        "        return self._T\n",
        "\n",
        "    @property\n",
        "    def K(self):\n",
        "        return self._K\n",
        "\n",
        "    @property\n",
        "    def state(self):\n",
        "        return self._state\n",
        "\n",
        "    def probability_add_bond(self, x1, y1, x2, y2, state):\n",
        "        \"\"\"The probability for adding a bond.\"\"\"\n",
        "        E = 1.0 if state[x1, y1] == state[x2, y2] else 0.0\n",
        "        return 1.0 - np.exp(-self.K * E)\n",
        "\n",
        "    def set_T(self, T):\n",
        "        self._T = T\n",
        "        self._K = 2. / T\n",
        "\n",
        "    def wolff_iterative(self, state):\n",
        "        \"\"\" Iterative Wolff Algorithm \n",
        "            This algorithm uses a doubly ended queue (deque), which provides O(1) \n",
        "            operations for adding and removing items from both ends of a list. \n",
        "        \"\"\"\n",
        "        \n",
        "        # Convenient lists for indexing\n",
        "        # Below, we'll use these to get the left (or 'above', etc) neighbors of a site.\n",
        "        # Includes periodic boundaries! Another option would be to replace\n",
        "        #    left[x1]   by   (x1 - 1) % L\n",
        "        # but that does an addition and a module every step.\n",
        "        left = [self.L - 1] + list(range(self.L - 1))\n",
        "        right = list(range(1, self.L)) + [0]\n",
        "        \n",
        "        # Book-keeping containers\n",
        "        sites_to_consider = deque()\n",
        "        sites_to_flip = set()\n",
        "        bonds_considered = set()\n",
        "\n",
        "        # Initial queue of sites to consider, just consisting of a single (x,y) location\n",
        "        sites_to_consider.append((\n",
        "            np.random.randint(0, self.L),\n",
        "            np.random.randint(0, self.L)\n",
        "        ))\n",
        "\n",
        "        # As long as there are sites to consider\n",
        "        while sites_to_consider:\n",
        "            # Pick a new site to consider from the queue, either using\n",
        "            # breadth first or depth first\n",
        "            if self._method == \"BFS\":\n",
        "                x1, y1 = sites_to_consider.popleft()\n",
        "            if self._method == \"DFS\":\n",
        "                x1, y1 = sites_to_consider.pop()\n",
        "\n",
        "            # For the neighbors of this site\n",
        "            for x2, y2 in zip([left[x1], right[x1], x1, x1],\n",
        "                              [y1, y1, left[y1], right[y1]]):\n",
        "                \n",
        "                # Check if we have not already considered this pair\n",
        "                if not (x1, y1, x2, y2) in bonds_considered:\n",
        "                    # Add the pair so that we don't flip it twice\n",
        "                    bonds_considered.add((x1, y1, x2, y2))\n",
        "                    bonds_considered.add((x2, y2, x1, y1))\n",
        "\n",
        "                    if np.random.rand() < self.probability_add_bond(x1, y1, x2, y2, state):\n",
        "                        sites_to_consider.append((x2, y2))\n",
        "                        sites_to_flip.add((x1, y1))\n",
        "                        sites_to_flip.add((x2, y2))\n",
        "                        \n",
        "        return sites_to_flip\n",
        "\n",
        "    def step(self):\n",
        "        \"\"\"Use Wolff and perform update.\"\"\"\n",
        "\n",
        "        # Get a list of sites to flip...\n",
        "        to_flip = self.wolff_iterative(self._state)\n",
        "\n",
        "        # ...and flip them\n",
        "        for (x, y) in to_flip:\n",
        "            self._state[x, y] = 1 - self._state[x, y]\n",
        "\n",
        "        # Return the list of the flipped sites\n",
        "        return to_flip\n"
      ],
      "metadata": {
        "id": "lDyqRD-5Nlrm"
      },
      "execution_count": null,
      "outputs": []
    },
    {
      "cell_type": "code",
      "source": [
        "def generate_Ising_configurations(L, numSamplesPerT, Ts, equilibrationSteps=100):\n",
        "    ''' Generates snapshots for the 2D Ising model for a given set of temperatures\n",
        "\n",
        "    Samples are generated using Wolff cluster updates.\n",
        "\n",
        "    Parameters:\n",
        "\n",
        "        * `L`: Linear size of the system\n",
        "        * `numSamplesPerT`: Number of samples to generate per temperature\n",
        "        * `Ts`: List of temperatures\n",
        "        * `equilibrationSteps`: Number of equilibration steps\n",
        "\n",
        "    Returns:\n",
        "        * A dictionary with the sampled configurations for each temperature\n",
        "\n",
        "    '''\n",
        "\n",
        "    # Initialize a new simulator\n",
        "    sim = WolffMonteCarlo(L=L, T=5, method=\"DFS\")\n",
        "\n",
        "    all_data = {}\n",
        "\n",
        "    # Loop over a fixed set of temperatures\n",
        "    for T in Ts:\n",
        "        print(\"Generating samples for L = %d at T = %.3f\"%(L,T))\n",
        "\n",
        "        # Set temperature\n",
        "        sim.set_T(T)\n",
        "\n",
        "        # For storing all of the configurations\n",
        "        snapshots = []\n",
        "        for s in range(numSamplesPerT + equilibrationSteps):\n",
        "\n",
        "            # Keep flipping sites, until we flipped at least L^2 of them\n",
        "            c = 0\n",
        "            while c < 1:\n",
        "                to_flip = sim.step()\n",
        "                c = c + len(to_flip) / L / L\n",
        "\n",
        "            # The first half of the flips are to equilibrate, the rest are samples\n",
        "            if s >= equilibrationSteps:\n",
        "                snapshots.append(np.array(-1 + 2 * sim.state.reshape(-1)))\n",
        "\n",
        "\n",
        "        all_data['%.3f'%(T)] = np.array(snapshots)\n",
        "\n",
        "    return all_data"
      ],
      "metadata": {
        "id": "73tLLEZmODU9"
      },
      "execution_count": null,
      "outputs": []
    },
    {
      "cell_type": "markdown",
      "source": [
        "## Generate Ising model data"
      ],
      "metadata": {
        "id": "3M9AygsSReNC"
      }
    },
    {
      "cell_type": "code",
      "source": [
        "# The temperatures that we are going to generate samples at\n",
        "Ts = np.arange(1.95, 0.04, -0.1) * 2.27\n",
        "\n",
        "# For a few different system sizes, store the data in a dictionary with L as key\n",
        "all_data = generate_Ising_configurations(10, 1000, Ts)"
      ],
      "metadata": {
        "colab": {
          "base_uri": "https://localhost:8080/"
        },
        "id": "BAXQBPg8OLTn",
        "outputId": "40c23360-7294-46d5-b205-3f93607e898c"
      },
      "execution_count": null,
      "outputs": [
        {
          "output_type": "stream",
          "name": "stdout",
          "text": [
            "Generating samples for L = 10 at T = 4.426\n",
            "Generating samples for L = 10 at T = 4.199\n",
            "Generating samples for L = 10 at T = 3.972\n",
            "Generating samples for L = 10 at T = 3.745\n",
            "Generating samples for L = 10 at T = 3.518\n",
            "Generating samples for L = 10 at T = 3.291\n",
            "Generating samples for L = 10 at T = 3.064\n",
            "Generating samples for L = 10 at T = 2.837\n",
            "Generating samples for L = 10 at T = 2.610\n",
            "Generating samples for L = 10 at T = 2.383\n",
            "Generating samples for L = 10 at T = 2.156\n",
            "Generating samples for L = 10 at T = 1.929\n",
            "Generating samples for L = 10 at T = 1.702\n",
            "Generating samples for L = 10 at T = 1.475\n",
            "Generating samples for L = 10 at T = 1.248\n",
            "Generating samples for L = 10 at T = 1.021\n",
            "Generating samples for L = 10 at T = 0.794\n",
            "Generating samples for L = 10 at T = 0.567\n",
            "Generating samples for L = 10 at T = 0.340\n",
            "Generating samples for L = 10 at T = 0.113\n"
          ]
        }
      ]
    },
    {
      "cell_type": "markdown",
      "source": [
        "## Split the data into training/testing/validation sets"
      ],
      "metadata": {
        "id": "f6iZY0rHRl5B"
      }
    },
    {
      "cell_type": "code",
      "source": [
        "def split_training_data(all_data, Ts, Tc=2.7, train_fraction=0.8):\n",
        "    # Lists to store the raw data\n",
        "    raw_T = []\n",
        "    raw_x = []\n",
        "    raw_y = [] \n",
        "    \n",
        "    for T in Ts:      \n",
        "        raw_x.append(all_data['%.3f'%(T)])\n",
        "        n = len(all_data['%.3f'%(T)])\n",
        "        label = [1,0] if T < Tc else [0,1]\n",
        "        raw_y.append(np.array([label] * n))\n",
        "        raw_T.append(np.array([T]*n))\n",
        "        \n",
        "    raw_T = np.concatenate(raw_T)\n",
        "    raw_x = np.concatenate(raw_x, axis=0)\n",
        "    raw_y = np.concatenate(raw_y, axis=0)\n",
        "    \n",
        "    # Shuffle\n",
        "    indices = np.random.permutation(len(raw_x))\n",
        "    all_T = raw_T[indices]\n",
        "    all_x = raw_x[indices]\n",
        "    all_y = raw_y[indices]\n",
        "\n",
        "    # Split into train and test sets\n",
        "    train_split = int(train_fraction * len(all_x))\n",
        "    train_T = jnp.array(all_T[:train_split])\n",
        "    train_x = jnp.array(all_x[:train_split])\n",
        "    train_y = jnp.array(all_y[:train_split])\n",
        "    test_T = jnp.array(all_T[train_split:])\n",
        "    test_x = jnp.array(all_x[train_split:])\n",
        "    test_y = jnp.array(all_y[train_split:])\n",
        "    \n",
        "    return [raw_T, raw_x, raw_y], [train_T, train_x, train_y], [test_T, test_x, test_y]"
      ],
      "metadata": {
        "id": "ZscG0RE2OmHz"
      },
      "execution_count": null,
      "outputs": []
    },
    {
      "cell_type": "markdown",
      "source": [
        "## Visualize some of the Ising model snapshots"
      ],
      "metadata": {
        "id": "-fAuVnArRr3G"
      }
    },
    {
      "cell_type": "code",
      "source": [
        "[raw_T, raw_x, raw_y], [train_T, train_x, train_y], [test_T, test_x, test_y] = split_training_data(all_data,Ts)\n",
        "\n",
        "fig, ax = plt.subplots(4,5, figsize=(14,10))\n",
        "for i in range(4):\n",
        "    for j in range(5):\n",
        "        ax[i,j].matshow(np.reshape(raw_x[(4*i + j)*800], (10,10)), cmap='Greys')\n",
        "        ax[i,j].set_title(\"$T = %.3f$\"%raw_T[(4*i + j)*800])\n",
        "        ax[i,j].set_xticks([])\n",
        "        ax[i,j].set_yticks([])\n",
        "fig.tight_layout()"
      ],
      "metadata": {
        "colab": {
          "base_uri": "https://localhost:8080/",
          "height": 730
        },
        "id": "qs502H1EO9ql",
        "outputId": "ee8d6029-cb09-4d95-e754-304561d47cdf"
      },
      "execution_count": null,
      "outputs": [
        {
          "output_type": "display_data",
          "data": {
            "text/plain": [
              "<Figure size 1008x720 with 20 Axes>"
            ],
            "image/png": "[encoded data removed]"
          },
          "metadata": {}
        }
      ]
    },
    {
      "cell_type": "markdown",
      "source": [
        "# Learning the transition (the JAX version)"
      ],
      "metadata": {
        "id": "psIzHtnBPDz5"
      }
    },
    {
      "cell_type": "markdown",
      "source": [
        "## Define the neural network"
      ],
      "metadata": {
        "id": "rVnLg_vhR1dS"
      }
    },
    {
      "cell_type": "code",
      "source": [
        "from typing import Sequence\n",
        "\n",
        "class MyNet(nn.Module):\n",
        "    layers: Sequence[int] # A tuple that contains the widths of all layers follwing the input layer\n",
        "    \n",
        "    @nn.compact\n",
        "    def __call__(self, x):\n",
        "\n",
        "        a = x.ravel() # flatten the input\n",
        "\n",
        "        # Evaluate network layer by layer\n",
        "        for width in self.layers[:-1]:\n",
        "            # Apply a the Dense layer with given width followed by the non-linearity\n",
        "            a = nn.relu(nn.Dense(width)(a))\n",
        "          \n",
        "        a = nn.Dense(self.layers[-1])(a)\n",
        "        \n",
        "        # Return activations of the output layer\n",
        "        return a - logsumexp(a)\n",
        "    \n",
        "# Initialize a new network (or rather its parameters)\n",
        "layer_sizes = [100, 64, 32, 2]\n",
        "net = MyNet(layers=layer_sizes)"
      ],
      "metadata": {
        "id": "OlOj-SpDPKPQ"
      },
      "execution_count": null,
      "outputs": []
    },
    {
      "cell_type": "code",
      "source": [
        "# Make a batched `predict` function\n",
        "predict = jax.vmap(lambda p, x: net.apply(p,x), in_axes=(None, 0), out_axes=0)"
      ],
      "metadata": {
        "id": "G51yQViSPUAD"
      },
      "execution_count": null,
      "outputs": []
    },
    {
      "cell_type": "markdown",
      "source": [
        "### The loss function"
      ],
      "metadata": {
        "id": "r8asL1PNR53R"
      }
    },
    {
      "cell_type": "code",
      "source": [
        "def loss(params, images, targets):\n",
        "    preds = predict(params, images)\n",
        "    return -jnp.mean(preds * targets)"
      ],
      "metadata": {
        "id": "Gvv5TC5EPVR9"
      },
      "execution_count": null,
      "outputs": []
    },
    {
      "cell_type": "markdown",
      "source": [
        "### The optimizer"
      ],
      "metadata": {
        "id": "O9rQMAQSR-M_"
      }
    },
    {
      "cell_type": "code",
      "source": [
        "# Defining an optimizer in Jax\n",
        "step_size = 1e-3\n",
        "opt_init, opt_update, get_params = optimizers.adam(step_size)\n",
        "\n",
        "@jit\n",
        "def update(params, x, y, opt_state):\n",
        "    \"\"\" Compute the gradient for a batch and update the parameters \"\"\"\n",
        "    value, grads = value_and_grad(loss)(params, x, y)\n",
        "    opt_state = opt_update(0, grads, opt_state)\n",
        "    return get_params(opt_state), opt_state, value"
      ],
      "metadata": {
        "id": "3Qj8WneuPXEm"
      },
      "execution_count": null,
      "outputs": []
    },
    {
      "cell_type": "markdown",
      "source": [
        "### The training loop"
      ],
      "metadata": {
        "id": "Eo0UTjQcSB53"
      }
    },
    {
      "cell_type": "code",
      "source": [
        "def accuracy(params, images, targets):\n",
        "    target_class = jnp.argmax(targets, axis=1)\n",
        "    predicted_class = jnp.argmax(predict(params, images), axis=1)\n",
        "    return jnp.mean(predicted_class == target_class)\n",
        "\n",
        "def train(train_x, train_y, test_x, test_y, num_epochs, batch_size, opt_state):\n",
        "    \"\"\" Implements a learning loop over epochs. \"\"\"\n",
        "    # Initialize placeholder for loggin\n",
        "    log_acc_train, log_acc_test, train_loss = [], [], []\n",
        "\n",
        "    # Get the initial set of parameters\n",
        "    params = get_params(opt_state)\n",
        "\n",
        "    # Get initial accuracy after random init\n",
        "    train_acc = accuracy(params, train_x, train_y)\n",
        "    test_acc = accuracy(params, test_x, test_y)\n",
        "    log_acc_train.append(train_acc)\n",
        "    log_acc_test.append(test_acc)\n",
        "\n",
        "    # Divide into batches\n",
        "    num_batches = len(train_x) // batch_size\n",
        "\n",
        "    # Loop over the training epochs\n",
        "    for epoch in range(num_epochs):\n",
        "        start_time = time.time()\n",
        "        \n",
        "        # Shuffle data\n",
        "        indices = np.random.permutation(len(train_x))\n",
        "        batch_indices = jnp.split(indices[:num_batches*batch_size], batch_size)\n",
        "        \n",
        "        for b in range(len(batch_indices)):\n",
        "            x = train_x[batch_indices[b]]\n",
        "            y = train_y[batch_indices[b]]\n",
        "            \n",
        "            params, opt_state, loss = update(params, x, y, opt_state)\n",
        "            train_loss.append(loss)\n",
        "\n",
        "        epoch_time = time.time() - start_time\n",
        "        train_acc = accuracy(params, train_x, train_y)\n",
        "        test_acc = accuracy(params, test_x, test_y)\n",
        "        log_acc_train.append(train_acc)\n",
        "        log_acc_test.append(test_acc)\n",
        "        print(\"Epoch {} | Time: {:0.2f} | Train A: {:0.3f} | Test A: {:0.3f}\".format(epoch+1, epoch_time,\n",
        "                                                                    train_acc, test_acc))\n",
        "\n",
        "        \n",
        "    return train_loss, log_acc_train, log_acc_test, params"
      ],
      "metadata": {
        "id": "S-k1a1pGPYZu"
      },
      "execution_count": null,
      "outputs": []
    },
    {
      "cell_type": "markdown",
      "source": [
        "## Pick the temperatures to train on, and initialize the network"
      ],
      "metadata": {
        "id": "EuiXJhoDSEGN"
      }
    },
    {
      "cell_type": "code",
      "source": [
        "# Pick only the Ts at the beginning and at the end, and construct a dataset\n",
        "train_Ts = list(Ts[:4]) + list(Ts[-4:])\n",
        "[raw_T, raw_x, raw_y], [train_T, train_x, train_y], [test_T, test_x, test_y] = split_training_data(all_data, train_Ts)\n",
        "\n",
        "# Initialize a new network (or rather its parameters)\n",
        "params = MyNet(layers=layer_sizes).init(key, train_x[0])\n",
        "\n",
        "# Initialize the optimizer\n",
        "opt_state = opt_init(params)"
      ],
      "metadata": {
        "id": "Ubz08zJKPafq"
      },
      "execution_count": null,
      "outputs": []
    },
    {
      "cell_type": "markdown",
      "source": [
        "### Train and plot the loss :)"
      ],
      "metadata": {
        "id": "24t7SszcSJhH"
      }
    },
    {
      "cell_type": "code",
      "source": [
        "train_loss, train_log, test_log, params = train(train_x, train_y, test_x, test_y, 5, 32, opt_state)\n",
        "\n",
        "fig, ax = plt.subplots(dpi=150)\n",
        "ax.plot(train_loss)\n",
        "ax.set_xlabel(\"Batch\")\n",
        "ax.set_ylabel(\"Loss\")"
      ],
      "metadata": {
        "colab": {
          "base_uri": "https://localhost:8080/",
          "height": 676
        },
        "id": "Ht6HuCckPcAK",
        "outputId": "2cf5701e-67fb-4fdd-fee4-fe212a087047"
      },
      "execution_count": null,
      "outputs": [
        {
          "output_type": "stream",
          "name": "stdout",
          "text": [
            "Epoch 1 | Time: 0.27 | Train A: 1.000 | Test A: 1.000\n",
            "Epoch 2 | Time: 0.12 | Train A: 1.000 | Test A: 1.000\n",
            "Epoch 3 | Time: 0.12 | Train A: 1.000 | Test A: 1.000\n",
            "Epoch 4 | Time: 0.12 | Train A: 1.000 | Test A: 1.000\n",
            "Epoch 5 | Time: 0.13 | Train A: 1.000 | Test A: 1.000\n"
          ]
        },
        {
          "output_type": "execute_result",
          "data": {
            "text/plain": [
              "Text(0, 0.5, 'Loss')"
            ]
          },
          "metadata": {},
          "execution_count": 29
        },
        {
          "output_type": "display_data",
          "data": {
            "text/plain": [
              "<Figure size 900x600 with 1 Axes>"
            ],
            "image/png": "[encoded data removed]"
          },
          "metadata": {
            "needs_background": "light"
          }
        }
      ]
    },
    {
      "cell_type": "markdown",
      "source": [
        "## Now predict on the other intermediate temperatures"
      ],
      "metadata": {
        "id": "fdVAEglvSOUB"
      }
    },
    {
      "cell_type": "code",
      "source": [
        "# For every temperature, get the averaged prediction\n",
        "predictions = []\n",
        "for T in Ts:\n",
        "    x = all_data['%.3f'%T]#['x']\n",
        "    p = jnp.exp( predict(params, x) )  # Exponentiate it to go back to the [0,1] range for nicer plotting\n",
        "    p = jnp.mean( p, axis=0 )\n",
        "    predictions.append(p)"
      ],
      "metadata": {
        "id": "1ejoNzp-PdVa"
      },
      "execution_count": null,
      "outputs": []
    },
    {
      "cell_type": "code",
      "source": [
        "fig, ax = plt.subplots(dpi=150)\n",
        "ax.plot( Ts, predictions )\n",
        "ax.set_xlabel(\"T\")\n",
        "ax.set_ylabel(\"Predictions\")"
      ],
      "metadata": {
        "colab": {
          "base_uri": "https://localhost:8080/",
          "height": 580
        },
        "id": "pvnFkpOPPeXd",
        "outputId": "27c1a0e1-d304-402d-d187-49f4d5212d19"
      },
      "execution_count": null,
      "outputs": [
        {
          "output_type": "execute_result",
          "data": {
            "text/plain": [
              "Text(0, 0.5, 'Predictions')"
            ]
          },
          "metadata": {},
          "execution_count": 31
        },
        {
          "output_type": "display_data",
          "data": {
            "text/plain": [
              "<Figure size 900x600 with 1 Axes>"
            ],
            "image/png": "[encoded data removed]"
          },
          "metadata": {
            "needs_background": "light"
          }
        }
      ]
    },
    {
      "cell_type": "markdown",
      "source": [
        "### Challenges and other ideas\n",
        "* Fit a sigmoid to the outputs to extract the crossing point (=Tc)\n",
        "* See how the crossing point depends on:\n",
        "    * The (width of the) regions in which you train\n",
        "    * The network architecture\n",
        "    * Size of the data (instead of 10x10 snapshots)   \n",
        "* Convert to use a Flax model"
      ],
      "metadata": {
        "id": "hL5AkglbPyLP"
      }
    },
    {
      "cell_type": "markdown",
      "source": [
        "# Learning By Confusion"
      ],
      "metadata": {
        "id": "-W0dQ5cvQHAk"
      }
    },
    {
      "cell_type": "code",
      "source": [
        "def train_with_guess(Ts, Tc_guess):\n",
        "    [raw_T, raw_x, raw_y], [train_T, train_x, train_y], [test_T, test_x, test_y] = split_training_data(all_data, Ts, Tc=Tc_guess, train_fraction=0.9)\n",
        "    \n",
        "    # Initialize a new network (or rather its parameters)\n",
        "    params = MyNet(layers=layer_sizes).init(key, train_x[0])\n",
        "\n",
        "    # Initialize the optimizer\n",
        "    opt_state = opt_init(params)\n",
        "\n",
        "    train_loss, train_log, test_log, params = train(train_x, train_y, test_x, test_y, 5, 16, opt_state)\n",
        "    \n",
        "    return train_log"
      ],
      "metadata": {
        "id": "L6i8afv6QINc"
      },
      "execution_count": null,
      "outputs": []
    },
    {
      "cell_type": "code",
      "source": [
        "W_over_time = {}\n",
        "for guess in np.linspace(Ts[0], Ts[-1], 10):\n",
        "    print(\"Training at guess %.3f\"%guess)\n",
        "    accuracy_vs_epoch = train_with_guess(Ts, guess)\n",
        "    W_over_time[guess] = accuracy_vs_epoch\n",
        "    print(\"\\t Final accuracy: %.3f\"%accuracy_vs_epoch[-1])"
      ],
      "metadata": {
        "colab": {
          "base_uri": "https://localhost:8080/"
        },
        "id": "3ymXWCFbQJdf",
        "outputId": "b1d12cbd-1155-4042-aac1-9895eac91a8c"
      },
      "execution_count": null,
      "outputs": [
        {
          "output_type": "stream",
          "name": "stdout",
          "text": [
            "Training at guess 4.426\n",
            "Epoch 1 | Time: 1.64 | Train A: 0.950 | Test A: 0.948\n",
            "Epoch 2 | Time: 0.15 | Train A: 0.950 | Test A: 0.948\n",
            "Epoch 3 | Time: 0.15 | Train A: 0.950 | Test A: 0.948\n",
            "Epoch 4 | Time: 0.15 | Train A: 0.950 | Test A: 0.948\n",
            "Epoch 5 | Time: 0.15 | Train A: 0.950 | Test A: 0.948\n",
            "\t Final accuracy: 0.950\n",
            "Training at guess 3.947\n",
            "Epoch 1 | Time: 0.14 | Train A: 0.849 | Test A: 0.855\n",
            "Epoch 2 | Time: 0.13 | Train A: 0.851 | Test A: 0.854\n",
            "Epoch 3 | Time: 0.15 | Train A: 0.858 | Test A: 0.859\n",
            "Epoch 4 | Time: 0.14 | Train A: 0.863 | Test A: 0.861\n",
            "Epoch 5 | Time: 0.15 | Train A: 0.866 | Test A: 0.857\n",
            "\t Final accuracy: 0.866\n",
            "Training at guess 3.468\n",
            "Epoch 1 | Time: 0.14 | Train A: 0.857 | Test A: 0.875\n",
            "Epoch 2 | Time: 0.15 | Train A: 0.863 | Test A: 0.878\n",
            "Epoch 3 | Time: 0.15 | Train A: 0.867 | Test A: 0.878\n",
            "Epoch 4 | Time: 0.15 | Train A: 0.872 | Test A: 0.880\n",
            "Epoch 5 | Time: 0.14 | Train A: 0.876 | Test A: 0.883\n",
            "\t Final accuracy: 0.876\n",
            "Training at guess 2.989\n",
            "Epoch 1 | Time: 0.16 | Train A: 0.912 | Test A: 0.908\n",
            "Epoch 2 | Time: 0.15 | Train A: 0.916 | Test A: 0.916\n",
            "Epoch 3 | Time: 0.14 | Train A: 0.921 | Test A: 0.920\n",
            "Epoch 4 | Time: 0.14 | Train A: 0.923 | Test A: 0.921\n",
            "Epoch 5 | Time: 0.14 | Train A: 0.926 | Test A: 0.923\n",
            "\t Final accuracy: 0.926\n",
            "Training at guess 2.510\n",
            "Epoch 1 | Time: 0.14 | Train A: 0.945 | Test A: 0.954\n",
            "Epoch 2 | Time: 0.14 | Train A: 0.951 | Test A: 0.955\n",
            "Epoch 3 | Time: 0.14 | Train A: 0.951 | Test A: 0.952\n",
            "Epoch 4 | Time: 0.14 | Train A: 0.952 | Test A: 0.953\n",
            "Epoch 5 | Time: 0.15 | Train A: 0.954 | Test A: 0.955\n",
            "\t Final accuracy: 0.954\n",
            "Training at guess 2.030\n",
            "Epoch 1 | Time: 0.14 | Train A: 0.941 | Test A: 0.943\n",
            "Epoch 2 | Time: 0.15 | Train A: 0.948 | Test A: 0.956\n",
            "Epoch 3 | Time: 0.14 | Train A: 0.955 | Test A: 0.959\n",
            "Epoch 4 | Time: 0.14 | Train A: 0.955 | Test A: 0.958\n",
            "Epoch 5 | Time: 0.23 | Train A: 0.957 | Test A: 0.959\n",
            "\t Final accuracy: 0.957\n",
            "Training at guess 1.551\n",
            "Epoch 1 | Time: 0.15 | Train A: 0.920 | Test A: 0.920\n",
            "Epoch 2 | Time: 0.15 | Train A: 0.942 | Test A: 0.943\n",
            "Epoch 3 | Time: 0.29 | Train A: 0.952 | Test A: 0.948\n",
            "Epoch 4 | Time: 0.17 | Train A: 0.955 | Test A: 0.949\n",
            "Epoch 5 | Time: 0.14 | Train A: 0.956 | Test A: 0.951\n",
            "\t Final accuracy: 0.956\n",
            "Training at guess 1.072\n",
            "Epoch 1 | Time: 0.14 | Train A: 0.812 | Test A: 0.812\n",
            "Epoch 2 | Time: 0.13 | Train A: 0.882 | Test A: 0.865\n",
            "Epoch 3 | Time: 0.13 | Train A: 0.883 | Test A: 0.865\n",
            "Epoch 4 | Time: 0.14 | Train A: 0.883 | Test A: 0.865\n",
            "Epoch 5 | Time: 0.13 | Train A: 0.883 | Test A: 0.865\n",
            "\t Final accuracy: 0.883\n",
            "Training at guess 0.593\n",
            "Epoch 1 | Time: 0.13 | Train A: 0.851 | Test A: 0.842\n",
            "Epoch 2 | Time: 0.16 | Train A: 0.851 | Test A: 0.842\n",
            "Epoch 3 | Time: 0.14 | Train A: 0.851 | Test A: 0.842\n",
            "Epoch 4 | Time: 0.13 | Train A: 0.851 | Test A: 0.842\n",
            "Epoch 5 | Time: 0.16 | Train A: 0.851 | Test A: 0.842\n",
            "\t Final accuracy: 0.851\n",
            "Training at guess 0.113\n",
            "Epoch 1 | Time: 0.13 | Train A: 1.000 | Test A: 1.000\n",
            "Epoch 2 | Time: 0.13 | Train A: 1.000 | Test A: 1.000\n",
            "Epoch 3 | Time: 0.14 | Train A: 1.000 | Test A: 1.000\n",
            "Epoch 4 | Time: 0.16 | Train A: 1.000 | Test A: 1.000\n",
            "Epoch 5 | Time: 0.15 | Train A: 1.000 | Test A: 1.000\n",
            "\t Final accuracy: 1.000\n"
          ]
        }
      ]
    },
    {
      "cell_type": "code",
      "source": [
        "fig, ax = plt.subplots(dpi=150)\n",
        "\n",
        "guess_Ts = np.linspace(Ts[0], Ts[-1], 10)\n",
        "\n",
        "for i in range(1,5):\n",
        "    curve = [W_over_time[guess][i] for guess in guess_Ts]\n",
        "    color = np.array([0.7, 0.7, 0.7])*i/5\n",
        "    ax.plot( guess_Ts, curve, '-o', c=color )\n",
        "\n",
        "ax.set_xlabel(\"T\")\n",
        "ax.set_ylabel(\"Accuracy\")"
      ],
      "metadata": {
        "colab": {
          "base_uri": "https://localhost:8080/",
          "height": 580
        },
        "id": "jgQiOaSnQLa2",
        "outputId": "10a240a9-0469-4f26-ac03-a9754094abd1"
      },
      "execution_count": null,
      "outputs": [
        {
          "output_type": "execute_result",
          "data": {
            "text/plain": [
              "Text(0, 0.5, 'Accuracy')"
            ]
          },
          "metadata": {},
          "execution_count": 36
        },
        {
          "output_type": "display_data",
          "data": {
            "text/plain": [
              "<Figure size 900x600 with 1 Axes>"
            ],
            "image/png": "[encoded data removed]"
          },
          "metadata": {
            "needs_background": "light"
          }
        }
      ]
    },
    {
      "cell_type": "markdown",
      "source": [
        "## Challenges and other ideas\n",
        "* Play with the hyperparameters to build intuition, see if you can get a clear W shape\n",
        "* Increase the temperature resolution\n",
        "* Increase the number of epochs trained for, you should be able to see the W become more flat -> why is this?\n"
      ],
      "metadata": {
        "id": "e2MggdO4QNQM"
      }
    },
    {
      "cell_type": "markdown",
      "source": [
        "# Even bigger challenge\n",
        "Implement \"DCNs\": https://arxiv.org/abs/1706.08111\n",
        "(either using two actual NNs, or merging them back into one)\n"
      ],
      "metadata": {
        "id": "lFtsjudRWXKz"
      }
    },
    {
      "cell_type": "code",
      "source": [
        ""
      ],
      "metadata": {
        "id": "2U56TEO6QOim"
      },
      "execution_count": null,
      "outputs": []
    }
  ]
}